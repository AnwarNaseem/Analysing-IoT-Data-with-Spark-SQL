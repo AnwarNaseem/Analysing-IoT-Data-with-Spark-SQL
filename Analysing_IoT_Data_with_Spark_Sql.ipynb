{
  "cells": [
    {
      "cell_type": "markdown",
      "metadata": {
        "id": "k80EMNUBHiha"
      },
      "source": [
        "# Part-I\n",
        "\n",
        "# Objective: Analysing IoT Data with Spark Sql\n",
        "\n",
        "The objective of this case study is to analyse sensor data, which is presented in JSON format, using Spark SQL."
      ]
    },
    {
      "cell_type": "markdown",
      "metadata": {
        "id": "MQFESPU1Hihd"
      },
      "source": [
        "\n",
        "Dataset (iot_devices.json): The dataset has the following attributes\n",
        "\n",
        "* Device ID\n",
        "* Device Name\n",
        "* IP Address\n",
        "* Cca2 - country code\n",
        "* Cca3 - country name\n",
        "* Cn - Full name of country\n",
        "* Latitude\n",
        "* Longitude\n",
        "* Scale\n",
        "* Temperature\n",
        "* Humidity\n",
        "* Battery Level\n",
        "* CO2 level\n",
        "* LCD Status\n",
        "* Timestamp\n",
        "\n",
        "Task:\n",
        "\n",
        "1. Read the data into a Dataframe.\n",
        "2. Convert the Dataframe into a temporary view called iot.\n",
        "3. Count how many devices are there from each country and display the output.\n",
        "4. Display all the countries whose carbon dioxide level is more than 1400. Sort the output in descending order.\n",
        "5. Select all countries' devices with high-levels of C02 and group by cca3 and order by device_ids (Hint: For high CO2 level, the LCD status will be RED).\n",
        "find out all devices in countries whose batteries need replacements.\n"
      ]
    },
    {
      "cell_type": "code",
      "execution_count": null,
      "metadata": {
        "vscode": {
          "languageId": "plaintext"
        },
        "id": "PI9GDw_eHihf",
        "colab": {
          "base_uri": "https://localhost:8080/"
        },
        "outputId": "8546b21a-1dd3-43b6-e612-36b157b3ae3d"
      },
      "outputs": [
        {
          "output_type": "stream",
          "name": "stdout",
          "text": [
            "\u001b[33m\r0% [Working]\u001b[0m\r            \rHit:1 https://cloud.r-project.org/bin/linux/ubuntu focal-cran40/ InRelease\n",
            "\u001b[33m\r0% [Connecting to archive.ubuntu.com] [Connecting to security.ubuntu.com] [Conn\u001b[0m\r                                                                               \rHit:2 https://developer.download.nvidia.com/compute/cuda/repos/ubuntu2004/x86_64  InRelease\n",
            "\u001b[33m\r0% [Connecting to archive.ubuntu.com] [Connecting to security.ubuntu.com (91.18\u001b[0m\r                                                                               \rHit:3 http://security.ubuntu.com/ubuntu focal-security InRelease\n",
            "Hit:4 http://ppa.launchpad.net/c2d4u.team/c2d4u4.0+/ubuntu focal InRelease\n",
            "Hit:5 http://archive.ubuntu.com/ubuntu focal InRelease\n",
            "Get:6 http://archive.ubuntu.com/ubuntu focal-updates InRelease [114 kB]\n",
            "Hit:7 http://ppa.launchpad.net/cran/libgit2/ubuntu focal InRelease\n",
            "Hit:8 http://ppa.launchpad.net/deadsnakes/ppa/ubuntu focal InRelease\n",
            "Get:9 http://archive.ubuntu.com/ubuntu focal-backports InRelease [108 kB]\n",
            "Hit:10 http://ppa.launchpad.net/graphics-drivers/ppa/ubuntu focal InRelease\n",
            "Hit:11 http://ppa.launchpad.net/ubuntugis/ppa/ubuntu focal InRelease\n",
            "Get:12 http://archive.ubuntu.com/ubuntu focal-updates/universe amd64 Packages [1,372 kB]\n",
            "Fetched 1,594 kB in 2s (871 kB/s)\n",
            "Reading package lists... Done\n",
            "Building dependency tree       \n",
            "Reading state information... Done\n",
            "15 packages can be upgraded. Run 'apt list --upgradable' to see them.\n"
          ]
        }
      ],
      "source": [
        "!sudo apt update\n",
        "!apt-get install openjdk-8-jdk-headless -qq > /dev/null\n",
        "!wget -q http://archive.apache.org/dist/spark/spark-3.1.1/spark-3.1.1-bin-hadoop3.2.tgz"
      ]
    },
    {
      "cell_type": "code",
      "execution_count": null,
      "metadata": {
        "vscode": {
          "languageId": "plaintext"
        },
        "id": "2d65IhRsHihg",
        "colab": {
          "base_uri": "https://localhost:8080/"
        },
        "outputId": "7ed236b3-da4a-4467-95b4-201840687a79"
      },
      "outputs": [
        {
          "output_type": "stream",
          "name": "stdout",
          "text": [
            "Requirement already satisfied: pyspark in /usr/local/lib/python3.10/dist-packages (3.4.1)\n",
            "Requirement already satisfied: py4j==0.10.9.7 in /usr/local/lib/python3.10/dist-packages (from pyspark) (0.10.9.7)\n"
          ]
        }
      ],
      "source": [
        "!tar xf spark-3.1.1-bin-hadoop3.2.tgz\n",
        "!pip install -q findspark\n",
        "!pip install pyspark"
      ]
    },
    {
      "cell_type": "code",
      "source": [
        "import os\n",
        "os.environ[\"JAVA_HOME\"] = \"/usr/lib/jvm/java-8-openjdk-amd64\"\n",
        "os.environ[\"SPARK_HOME\"] = \"/content/spark-3.1.1-bin-hadoop3.2\""
      ],
      "metadata": {
        "id": "K9qxPgfsm8zg"
      },
      "execution_count": null,
      "outputs": []
    },
    {
      "cell_type": "code",
      "source": [
        "import findspark\n",
        "findspark.init()\n",
        "findspark.find()"
      ],
      "metadata": {
        "id": "3SMJ4GCNoAj6",
        "colab": {
          "base_uri": "https://localhost:8080/",
          "height": 35
        },
        "outputId": "4087fb27-3317-43fd-a365-fb3214cc810c"
      },
      "execution_count": null,
      "outputs": [
        {
          "output_type": "execute_result",
          "data": {
            "text/plain": [
              "'/content/spark-3.1.1-bin-hadoop3.2'"
            ],
            "application/vnd.google.colaboratory.intrinsic+json": {
              "type": "string"
            }
          },
          "metadata": {},
          "execution_count": 4
        }
      ]
    },
    {
      "cell_type": "code",
      "source": [
        "# Import necessary libraries\n",
        "\n",
        "from pyspark.sql import DataFrame, SparkSession\n",
        "from typing import List\n",
        "import pyspark.sql.types as T\n",
        "import pyspark.sql.functions as F\n",
        "from pyspark import SparkFiles"
      ],
      "metadata": {
        "id": "yJoO3smum84n"
      },
      "execution_count": null,
      "outputs": []
    },
    {
      "cell_type": "code",
      "source": [
        "spark = SparkSession.builder.appName(\"Analysing Iot Data\").getOrCreate()\n",
        "spark"
      ],
      "metadata": {
        "colab": {
          "base_uri": "https://localhost:8080/",
          "height": 219
        },
        "id": "JmY8RjPam88O",
        "outputId": "2216b362-ec78-47d4-bf38-af937fb5411b"
      },
      "execution_count": null,
      "outputs": [
        {
          "output_type": "execute_result",
          "data": {
            "text/plain": [
              "<pyspark.sql.session.SparkSession at 0x7af59342acb0>"
            ],
            "text/html": [
              "\n",
              "            <div>\n",
              "                <p><b>SparkSession - in-memory</b></p>\n",
              "                \n",
              "        <div>\n",
              "            <p><b>SparkContext</b></p>\n",
              "\n",
              "            <p><a href=\"http://06f9e518097c:4040\">Spark UI</a></p>\n",
              "\n",
              "            <dl>\n",
              "              <dt>Version</dt>\n",
              "                <dd><code>v3.1.1</code></dd>\n",
              "              <dt>Master</dt>\n",
              "                <dd><code>local[*]</code></dd>\n",
              "              <dt>AppName</dt>\n",
              "                <dd><code>Analysing Iot Data</code></dd>\n",
              "            </dl>\n",
              "        </div>\n",
              "        \n",
              "            </div>\n",
              "        "
            ]
          },
          "metadata": {},
          "execution_count": 6
        }
      ]
    },
    {
      "cell_type": "code",
      "source": [
        "from google.colab import drive\n",
        "drive.mount('/content/drive')"
      ],
      "metadata": {
        "colab": {
          "base_uri": "https://localhost:8080/"
        },
        "id": "DHlKZmiAtQLa",
        "outputId": "6a96af19-0bca-4c28-8a23-8e474502ed5b"
      },
      "execution_count": null,
      "outputs": [
        {
          "output_type": "stream",
          "name": "stdout",
          "text": [
            "Drive already mounted at /content/drive; to attempt to forcibly remount, call drive.mount(\"/content/drive\", force_remount=True).\n"
          ]
        }
      ]
    },
    {
      "cell_type": "code",
      "source": [
        "## 1. Read the data into a Dataframe\n",
        "\n",
        "# Set the output file path\n",
        "output_file_path = '/content/drive/MyDrive/Colab Notebooks/iot_devices.json'\n",
        "\n",
        "# Read the file into a Spark DataFrame\n",
        "df = spark.read.json(output_file_path)\n",
        "\n",
        "# Display the DataFrame\n",
        "df.show(10)"
      ],
      "metadata": {
        "colab": {
          "base_uri": "https://localhost:8080/"
        },
        "id": "mtjHbjD1ubDO",
        "outputId": "1a6d8f6d-d87a-4be2-8b51-2fdb7107f36d"
      },
      "execution_count": null,
      "outputs": [
        {
          "output_type": "stream",
          "name": "stdout",
          "text": [
            "+-------------+---------+----+----+-------------+---------+--------------------+--------+---------------+--------+------+---------+-------+----+-------------+\n",
            "|battery_level|c02_level|cca2|cca3|           cn|device_id|         device_name|humidity|             ip|latitude|   lcd|longitude|  scale|temp|    timestamp|\n",
            "+-------------+---------+----+----+-------------+---------+--------------------+--------+---------------+--------+------+---------+-------+----+-------------+\n",
            "|            8|      868|  US| USA|United States|        1|meter-gauge-1xbYRYcj|      51|   68.161.225.1|    38.0| green|    -97.0|Celsius|  34|1458444054093|\n",
            "|            7|     1473|  NO| NOR|       Norway|        2|   sensor-pad-2n2Pea|      70|  213.161.254.1|   62.47|   red|     6.15|Celsius|  11|1458444054119|\n",
            "|            2|     1556|  IT| ITA|        Italy|        3| device-mac-36TWSKiT|      44|      88.36.5.1|   42.83|   red|    12.83|Celsius|  19|1458444054120|\n",
            "|            6|     1080|  US| USA|United States|        4|   sensor-pad-4mzWkz|      32|  66.39.173.154|   44.06|yellow|  -121.32|Celsius|  28|1458444054121|\n",
            "|            4|      931|  PH| PHL|  Philippines|        5|therm-stick-5gimp...|      62|    203.82.41.9|   14.58| green|   120.97|Celsius|  25|1458444054122|\n",
            "|            3|     1210|  US| USA|United States|        6|sensor-pad-6al7RT...|      51| 204.116.105.67|   35.93|yellow|   -85.46|Celsius|  27|1458444054122|\n",
            "|            3|     1129|  CN| CHN|        China|        7|meter-gauge-7GeDoanM|      26|  220.173.179.1|   22.82|yellow|   108.32|Celsius|  18|1458444054123|\n",
            "|            0|     1536|  JP| JPN|        Japan|        8|sensor-pad-8xUD6p...|      35|  210.173.177.1|   35.69|   red|   139.69|Celsius|  27|1458444054123|\n",
            "|            3|      807|  JP| JPN|        Japan|        9| device-mac-9GcjZ2pw|      85|  118.23.68.227|   35.69| green|   139.69|Celsius|  13|1458444054124|\n",
            "|            7|     1470|  US| USA|United States|       10|sensor-pad-10Bsyw...|      56|208.109.163.218|   33.61|   red|  -111.89|Celsius|  26|1458444054125|\n",
            "+-------------+---------+----+----+-------------+---------+--------------------+--------+---------------+--------+------+---------+-------+----+-------------+\n",
            "only showing top 10 rows\n",
            "\n"
          ]
        }
      ]
    },
    {
      "cell_type": "code",
      "source": [
        "df.printSchema()"
      ],
      "metadata": {
        "colab": {
          "base_uri": "https://localhost:8080/"
        },
        "id": "_2oSqPySw5Vf",
        "outputId": "b1b17e36-f9b8-4590-b7bd-8e09ec88fe0d"
      },
      "execution_count": null,
      "outputs": [
        {
          "output_type": "stream",
          "name": "stdout",
          "text": [
            "root\n",
            " |-- battery_level: long (nullable = true)\n",
            " |-- c02_level: long (nullable = true)\n",
            " |-- cca2: string (nullable = true)\n",
            " |-- cca3: string (nullable = true)\n",
            " |-- cn: string (nullable = true)\n",
            " |-- device_id: long (nullable = true)\n",
            " |-- device_name: string (nullable = true)\n",
            " |-- humidity: long (nullable = true)\n",
            " |-- ip: string (nullable = true)\n",
            " |-- latitude: double (nullable = true)\n",
            " |-- lcd: string (nullable = true)\n",
            " |-- longitude: double (nullable = true)\n",
            " |-- scale: string (nullable = true)\n",
            " |-- temp: long (nullable = true)\n",
            " |-- timestamp: long (nullable = true)\n",
            "\n"
          ]
        }
      ]
    },
    {
      "cell_type": "code",
      "source": [
        "# 2. Convert the Dataframe into a temporary view called iot.\n",
        "\n",
        "df.createOrReplaceTempView(\"IOT\")"
      ],
      "metadata": {
        "id": "eXasuDbIroXr"
      },
      "execution_count": null,
      "outputs": []
    },
    {
      "cell_type": "code",
      "source": [
        "df1 = spark.sql(\"SELECT * FROM IOT\")\n",
        "df1.show()"
      ],
      "metadata": {
        "colab": {
          "base_uri": "https://localhost:8080/"
        },
        "id": "R20HERRCw7nO",
        "outputId": "8e77697f-a4a3-40ee-f550-930c64e53dad"
      },
      "execution_count": null,
      "outputs": [
        {
          "output_type": "stream",
          "name": "stdout",
          "text": [
            "+-------------+---------+----+----+-------------+---------+--------------------+--------+---------------+--------+------+---------+-------+----+-------------+\n",
            "|battery_level|c02_level|cca2|cca3|           cn|device_id|         device_name|humidity|             ip|latitude|   lcd|longitude|  scale|temp|    timestamp|\n",
            "+-------------+---------+----+----+-------------+---------+--------------------+--------+---------------+--------+------+---------+-------+----+-------------+\n",
            "|            8|      868|  US| USA|United States|        1|meter-gauge-1xbYRYcj|      51|   68.161.225.1|    38.0| green|    -97.0|Celsius|  34|1458444054093|\n",
            "|            7|     1473|  NO| NOR|       Norway|        2|   sensor-pad-2n2Pea|      70|  213.161.254.1|   62.47|   red|     6.15|Celsius|  11|1458444054119|\n",
            "|            2|     1556|  IT| ITA|        Italy|        3| device-mac-36TWSKiT|      44|      88.36.5.1|   42.83|   red|    12.83|Celsius|  19|1458444054120|\n",
            "|            6|     1080|  US| USA|United States|        4|   sensor-pad-4mzWkz|      32|  66.39.173.154|   44.06|yellow|  -121.32|Celsius|  28|1458444054121|\n",
            "|            4|      931|  PH| PHL|  Philippines|        5|therm-stick-5gimp...|      62|    203.82.41.9|   14.58| green|   120.97|Celsius|  25|1458444054122|\n",
            "|            3|     1210|  US| USA|United States|        6|sensor-pad-6al7RT...|      51| 204.116.105.67|   35.93|yellow|   -85.46|Celsius|  27|1458444054122|\n",
            "|            3|     1129|  CN| CHN|        China|        7|meter-gauge-7GeDoanM|      26|  220.173.179.1|   22.82|yellow|   108.32|Celsius|  18|1458444054123|\n",
            "|            0|     1536|  JP| JPN|        Japan|        8|sensor-pad-8xUD6p...|      35|  210.173.177.1|   35.69|   red|   139.69|Celsius|  27|1458444054123|\n",
            "|            3|      807|  JP| JPN|        Japan|        9| device-mac-9GcjZ2pw|      85|  118.23.68.227|   35.69| green|   139.69|Celsius|  13|1458444054124|\n",
            "|            7|     1470|  US| USA|United States|       10|sensor-pad-10Bsyw...|      56|208.109.163.218|   33.61|   red|  -111.89|Celsius|  26|1458444054125|\n",
            "|            3|     1544|  IT| ITA|        Italy|       11|meter-gauge-11dlM...|      85|  88.213.191.34|   42.83|   red|    12.83|Celsius|  16|1458444054125|\n",
            "|            0|     1260|  US| USA|United States|       12|sensor-pad-12Y2kIm0o|      92|    68.28.91.22|    38.0|yellow|    -97.0|Celsius|  12|1458444054126|\n",
            "|            6|     1007|  IN| IND|        India|       13|meter-gauge-13Gro...|      92| 59.144.114.250|    28.6|yellow|     77.2|Celsius|  13|1458444054127|\n",
            "|            1|     1346|  NO| NOR|       Norway|       14|sensor-pad-14QL93...|      90| 193.156.90.200|   59.95|yellow|    10.75|Celsius|  16|1458444054127|\n",
            "|            9|     1259|  US| USA|United States|       15|  device-mac-15se6mZ|      70|    67.185.72.1|   47.41|yellow|   -122.0|Celsius|  13|1458444054128|\n",
            "|            4|     1425|  US| USA|United States|       16|sensor-pad-16aXmI...|      53|   68.85.85.106|    38.0|   red|    -97.0|Celsius|  15|1458444054128|\n",
            "|            0|     1466|  US| USA|United States|       17|meter-gauge-17zb8...|      98|161.188.212.254|   39.95|   red|   -75.16|Celsius|  31|1458444054129|\n",
            "|            4|     1096|  CN| CHN|        China|       18|sensor-pad-18XULN9Xv|      25|  221.3.128.242|   25.04|yellow|   102.72|Celsius|  31|1458444054130|\n",
            "|            9|     1531|  US| USA|United States|       19|meter-gauge-19eg1...|      75| 64.124.180.215|    38.0|   red|    -97.0|Celsius|  29|1458444054130|\n",
            "|            7|     1155|  US| USA|United States|       20|sensor-pad-20gFNf...|      33|  66.153.162.66|   33.94|yellow|   -78.92|Celsius|  10|1458444054131|\n",
            "+-------------+---------+----+----+-------------+---------+--------------------+--------+---------------+--------+------+---------+-------+----+-------------+\n",
            "only showing top 20 rows\n",
            "\n"
          ]
        }
      ]
    },
    {
      "cell_type": "code",
      "source": [
        "df1.columns"
      ],
      "metadata": {
        "colab": {
          "base_uri": "https://localhost:8080/"
        },
        "id": "blY8BLBcxuGW",
        "outputId": "a05e2c7e-57ac-4729-bbf0-8a84aca7dd49"
      },
      "execution_count": null,
      "outputs": [
        {
          "output_type": "execute_result",
          "data": {
            "text/plain": [
              "['battery_level',\n",
              " 'c02_level',\n",
              " 'cca2',\n",
              " 'cca3',\n",
              " 'cn',\n",
              " 'device_id',\n",
              " 'device_name',\n",
              " 'humidity',\n",
              " 'ip',\n",
              " 'latitude',\n",
              " 'lcd',\n",
              " 'longitude',\n",
              " 'scale',\n",
              " 'temp',\n",
              " 'timestamp']"
            ]
          },
          "metadata": {},
          "execution_count": 12
        }
      ]
    },
    {
      "cell_type": "code",
      "source": [
        "# 3. Count how many devices are there from each country and display the output\n",
        "\n",
        "spark.sql(\" SELECT cn, COUNT(device_name) AS no_of_devices FROM IOT GROUP BY cn ORDER BY cn\").show(50)"
      ],
      "metadata": {
        "colab": {
          "base_uri": "https://localhost:8080/"
        },
        "id": "h0s56xHiwFV3",
        "outputId": "f2f1bb7a-b053-474f-b985-e3e70579eadc"
      },
      "execution_count": null,
      "outputs": [
        {
          "output_type": "stream",
          "name": "stdout",
          "text": [
            "+--------------------+-------------+\n",
            "|                  cn|no_of_devices|\n",
            "+--------------------+-------------+\n",
            "|                    |         1810|\n",
            "|         Afghanistan|           19|\n",
            "|             Albania|           32|\n",
            "|             Algeria|           34|\n",
            "|      American Samoa|            3|\n",
            "|             Andorra|            4|\n",
            "|              Angola|           28|\n",
            "|            Anguilla|            7|\n",
            "| Antigua and Barbuda|           60|\n",
            "|           Argentina|          978|\n",
            "|             Armenia|           34|\n",
            "|               Aruba|            8|\n",
            "|           Australia|         3119|\n",
            "|             Austria|         1462|\n",
            "|          Azerbaijan|           49|\n",
            "|             Bahamas|           18|\n",
            "|             Bahrain|           55|\n",
            "|          Bangladesh|          153|\n",
            "|            Barbados|           38|\n",
            "|             Belarus|          123|\n",
            "|             Belgium|          666|\n",
            "|              Belize|           13|\n",
            "|               Benin|            3|\n",
            "|             Bermuda|           53|\n",
            "|              Bhutan|            8|\n",
            "|             Bolivia|          108|\n",
            "|Bosnia and Herzeg...|          106|\n",
            "|            Botswana|           12|\n",
            "|              Brazil|         3224|\n",
            "|British Indian Oc...|            2|\n",
            "|British Virgin Is...|            6|\n",
            "|              Brunei|           19|\n",
            "|            Bulgaria|         1334|\n",
            "|        Burkina Faso|           24|\n",
            "|            Cambodia|           43|\n",
            "|            Cameroon|           29|\n",
            "|              Canada|         6041|\n",
            "|      Cayman Islands|           26|\n",
            "|               Chile|          371|\n",
            "|               China|        14455|\n",
            "|            Colombia|          423|\n",
            "|               Congo|            8|\n",
            "|        Cook Islands|            3|\n",
            "|          Costa Rica|          116|\n",
            "|             Croatia|          193|\n",
            "|                Cuba|           15|\n",
            "|             Curaçao|           36|\n",
            "|              Cyprus|           93|\n",
            "|      Czech Republic|         1507|\n",
            "|             Denmark|         1190|\n",
            "+--------------------+-------------+\n",
            "only showing top 50 rows\n",
            "\n"
          ]
        }
      ]
    },
    {
      "cell_type": "code",
      "source": [
        "spark.sql(\"SELECT cn, COUNT(cn) FROM IOT GROUP BY cn\").show(5)"
      ],
      "metadata": {
        "colab": {
          "base_uri": "https://localhost:8080/"
        },
        "id": "a8EijDLnBqlX",
        "outputId": "bb4dfd44-0b1a-47ab-893c-05ec902aa05b"
      },
      "execution_count": null,
      "outputs": [
        {
          "output_type": "stream",
          "name": "stdout",
          "text": [
            "+-------------------+---------+\n",
            "|                 cn|count(cn)|\n",
            "+-------------------+---------+\n",
            "|             Russia|     5989|\n",
            "|           Paraguay|       32|\n",
            "|           Anguilla|        7|\n",
            "|              Macao|       33|\n",
            "|U.S. Virgin Islands|       51|\n",
            "+-------------------+---------+\n",
            "only showing top 5 rows\n",
            "\n"
          ]
        }
      ]
    },
    {
      "cell_type": "code",
      "source": [
        "spark.sql(\"select cca3, count(distinct device_id) as device_id from IOT group by cca3 order by device_id desc limit 50\").show();\n"
      ],
      "metadata": {
        "colab": {
          "base_uri": "https://localhost:8080/"
        },
        "id": "J5w2sgfi0KVH",
        "outputId": "5efa85f9-66d8-44d5-af9e-3276da5b4ade"
      },
      "execution_count": null,
      "outputs": [
        {
          "output_type": "stream",
          "name": "stdout",
          "text": [
            "+----+---------+\n",
            "|cca3|device_id|\n",
            "+----+---------+\n",
            "| USA|    70405|\n",
            "| CHN|    14455|\n",
            "| JPN|    12100|\n",
            "| KOR|    11879|\n",
            "| DEU|     7942|\n",
            "| GBR|     6486|\n",
            "| CAN|     6041|\n",
            "| RUS|     5989|\n",
            "| FRA|     5305|\n",
            "| BRA|     3224|\n",
            "| AUS|     3119|\n",
            "| ITA|     2915|\n",
            "| SWE|     2880|\n",
            "| POL|     2744|\n",
            "| NLD|     2488|\n",
            "| ESP|     2310|\n",
            "| TWN|     2128|\n",
            "| IND|     1867|\n",
            "| CZE|     1507|\n",
            "| NOR|     1487|\n",
            "+----+---------+\n",
            "only showing top 20 rows\n",
            "\n"
          ]
        }
      ]
    },
    {
      "cell_type": "code",
      "source": [
        "# 4. Display all the countries whose carbon dioxide level is more than 1400. Sort the output in descending order.\n",
        "\n",
        "count = \"Count of Devices with CO2 more than 1400\"\n",
        "\n",
        "df3 = spark.sql(\"SELECT cn, COUNT(distinct device_id) AS count FROM IOT WHERE c02_level > 1400 GROUP BY cn ORDER BY count DESC\")\n",
        "\n",
        "df3.show()\n"
      ],
      "metadata": {
        "colab": {
          "base_uri": "https://localhost:8080/"
        },
        "id": "ogMHlnav7ivI",
        "outputId": "3a64833f-d01c-42a5-fd70-f21225da6e09"
      },
      "execution_count": null,
      "outputs": [
        {
          "output_type": "stream",
          "name": "stdout",
          "text": [
            "+-----------------+-----+\n",
            "|               cn|count|\n",
            "+-----------------+-----+\n",
            "|    United States|17050|\n",
            "|            China| 3616|\n",
            "|Republic of Korea| 2942|\n",
            "|            Japan| 2935|\n",
            "|          Germany| 1966|\n",
            "|   United Kingdom| 1660|\n",
            "|           Canada| 1564|\n",
            "|           Russia| 1508|\n",
            "|           France| 1353|\n",
            "|           Brazil|  856|\n",
            "|        Australia|  769|\n",
            "|           Sweden|  724|\n",
            "|            Italy|  713|\n",
            "|           Poland|  664|\n",
            "|      Netherlands|  646|\n",
            "|            Spain|  586|\n",
            "|           Taiwan|  542|\n",
            "|            India|  446|\n",
            "|                 |  427|\n",
            "|           Norway|  399|\n",
            "+-----------------+-----+\n",
            "only showing top 20 rows\n",
            "\n"
          ]
        }
      ]
    },
    {
      "cell_type": "code",
      "source": [
        "spark.sql(\"SELECT cn,c02_level FROM IOT WHERE c02_level > 1400 ORDER BY c02_level DESC\").show(20)"
      ],
      "metadata": {
        "colab": {
          "base_uri": "https://localhost:8080/"
        },
        "id": "vluoKAdmzBhW",
        "outputId": "ae8c6685-467c-461a-8858-a2aab145dc89"
      },
      "execution_count": null,
      "outputs": [
        {
          "output_type": "stream",
          "name": "stdout",
          "text": [
            "+--------------+---------+\n",
            "|            cn|c02_level|\n",
            "+--------------+---------+\n",
            "|        Poland|     1599|\n",
            "|         Spain|     1599|\n",
            "| United States|     1599|\n",
            "|         Japan|     1599|\n",
            "|       Germany|     1599|\n",
            "|   Philippines|     1599|\n",
            "|        Canada|     1599|\n",
            "|        Canada|     1599|\n",
            "| United States|     1599|\n",
            "| United States|     1599|\n",
            "| United States|     1599|\n",
            "|        France|     1599|\n",
            "| United States|     1599|\n",
            "|Czech Republic|     1599|\n",
            "|         China|     1599|\n",
            "|         Japan|     1599|\n",
            "|        Turkey|     1599|\n",
            "| United States|     1599|\n",
            "|Czech Republic|     1599|\n",
            "| United States|     1599|\n",
            "+--------------+---------+\n",
            "only showing top 20 rows\n",
            "\n"
          ]
        }
      ]
    },
    {
      "cell_type": "code",
      "source": [
        "# Select all countries' devices with high-levels of C02 and group by cca3 and order by device_ids\n",
        "# (Hint: For high CO2 level, the LCD status will be RED)."
      ],
      "metadata": {
        "id": "n9FvoJhrwFd2"
      },
      "execution_count": null,
      "outputs": []
    },
    {
      "cell_type": "code",
      "source": [
        "spark.sql(\"SELECT cca3, count(distinct device_id) as device_id FROM IOT WHERE lcd == 'red' GROUP BY cca3 ORDER BY device_id\").show()"
      ],
      "metadata": {
        "colab": {
          "base_uri": "https://localhost:8080/"
        },
        "id": "7hwiZ0nf-NEj",
        "outputId": "b6257139-7121-469a-c0b9-3e58f204d909"
      },
      "execution_count": null,
      "outputs": [
        {
          "output_type": "stream",
          "name": "stdout",
          "text": [
            "+----+---------+\n",
            "|cca3|device_id|\n",
            "+----+---------+\n",
            "| LBR|        1|\n",
            "| TLS|        1|\n",
            "| AND|        1|\n",
            "| CIV|        1|\n",
            "| MHL|        1|\n",
            "| SLB|        1|\n",
            "| TJK|        1|\n",
            "| FSM|        1|\n",
            "| IOT|        1|\n",
            "| TKM|        1|\n",
            "| GGY|        1|\n",
            "| GIB|        1|\n",
            "| FLK|        1|\n",
            "| REU|        1|\n",
            "| GAB|        1|\n",
            "| TGO|        2|\n",
            "| LCA|        2|\n",
            "| FJI|        2|\n",
            "| YEM|        2|\n",
            "| IRQ|        2|\n",
            "+----+---------+\n",
            "only showing top 20 rows\n",
            "\n"
          ]
        }
      ]
    },
    {
      "cell_type": "code",
      "source": [
        "spark.sql(\"SELECT cn,device_name,c02_level,lcd FROM IOT WHERE lcd == 'red' \").show(50)"
      ],
      "metadata": {
        "colab": {
          "base_uri": "https://localhost:8080/"
        },
        "id": "aw0jrSoJ9UAf",
        "outputId": "8593df6d-8018-4abc-aa07-3846731bccc3"
      },
      "execution_count": null,
      "outputs": [
        {
          "output_type": "stream",
          "name": "stdout",
          "text": [
            "+-----------------+--------------------+---------+---+\n",
            "|               cn|         device_name|c02_level|lcd|\n",
            "+-----------------+--------------------+---------+---+\n",
            "|           Norway|   sensor-pad-2n2Pea|     1473|red|\n",
            "|            Italy| device-mac-36TWSKiT|     1556|red|\n",
            "|            Japan|sensor-pad-8xUD6p...|     1536|red|\n",
            "|    United States|sensor-pad-10Bsyw...|     1470|red|\n",
            "|            Italy|meter-gauge-11dlM...|     1544|red|\n",
            "|    United States|sensor-pad-16aXmI...|     1425|red|\n",
            "|    United States|meter-gauge-17zb8...|     1466|red|\n",
            "|    United States|meter-gauge-19eg1...|     1531|red|\n",
            "|            Japan|  sensor-pad-22oWV2D|     1522|red|\n",
            "|           Canada|sensor-pad-24Pytz...|     1511|red|\n",
            "|Republic of Korea|  device-mac-27P5wf2|     1597|red|\n",
            "|Republic of Korea|sensor-pad-28Tsud...|     1502|red|\n",
            "|          Ukraine|meter-gauge-47WsF9s8|     1454|red|\n",
            "|           Sweden|meter-gauge-534fD...|     1446|red|\n",
            "|    United States|sensor-pad-5410CW...|     1436|red|\n",
            "|    United States|device-mac-57tRB0...|     1503|red|\n",
            "|    United States|  sensor-pad-64djcIn|     1524|red|\n",
            "|   Czech Republic|sensor-pad-663dzo...|     1482|red|\n",
            "|            India|meter-gauge-77IKW...|     1454|red|\n",
            "|Republic of Korea|sensor-pad-78PkeI...|     1493|red|\n",
            "|          Germany|meter-gauge-89fFs...|     1423|red|\n",
            "|          Ecuador|therm-stick-95LXC...|     1553|red|\n",
            "|            Japan|meter-gauge-97K6l...|     1593|red|\n",
            "|Republic of Korea|meter-gauge-1033M...|     1432|red|\n",
            "|            Japan|meter-gauge-1075K...|     1553|red|\n",
            "|          Hungary|sensor-pad-110djs...|     1412|red|\n",
            "|        Venezuela|sensor-pad-112pG1...|     1449|red|\n",
            "|    United States| sensor-pad-11663yUf|     1480|red|\n",
            "|            China|device-mac-117mcc...|     1538|red|\n",
            "|         Thailand|meter-gauge-119M2...|     1541|red|\n",
            "|    United States|device-mac-123zvY...|     1520|red|\n",
            "|        Indonesia|device-mac-129noC...|     1405|red|\n",
            "|            China|sensor-pad-1362BA...|     1477|red|\n",
            "|Republic of Korea|meter-gauge-139M6...|     1438|red|\n",
            "|Republic of Korea|device-mac-1415eV...|     1515|red|\n",
            "|    United States|sensor-pad-146YKk...|     1562|red|\n",
            "|    United States|sensor-pad-150E4M...|     1405|red|\n",
            "|   United Kingdom|meter-gauge-157Xy...|     1521|red|\n",
            "|    United States|sensor-pad-162AFo...|     1565|red|\n",
            "|            China| sensor-pad-166l1yEA|     1500|red|\n",
            "|    United States|meter-gauge-167c4...|     1532|red|\n",
            "|    United States|meter-gauge-169Cs...|     1469|red|\n",
            "|            China|meter-gauge-173JD...|     1487|red|\n",
            "|           Greece|sensor-pad-178naP...|     1509|red|\n",
            "|Republic of Korea|sensor-pad-186cRw...|     1522|red|\n",
            "|          Germany|meter-gauge-191Ln...|     1429|red|\n",
            "|           France|sensor-pad-196gGPVR0|     1592|red|\n",
            "|    United States|sensor-pad-198i0dgLr|     1433|red|\n",
            "|           France|sensor-pad-204eDpACN|     1472|red|\n",
            "|          Belgium|device-mac-2071N0...|     1454|red|\n",
            "+-----------------+--------------------+---------+---+\n",
            "only showing top 50 rows\n",
            "\n"
          ]
        }
      ]
    },
    {
      "cell_type": "code",
      "source": [
        " # find out all devices in countries whose batteries need replacements.\n",
        "\n",
        "df.select(\"battery_level\").show(10)"
      ],
      "metadata": {
        "colab": {
          "base_uri": "https://localhost:8080/"
        },
        "id": "N9PASbyFChag",
        "outputId": "1769a6af-5898-4875-f502-94015d208c7e"
      },
      "execution_count": null,
      "outputs": [
        {
          "output_type": "stream",
          "name": "stdout",
          "text": [
            "+-------------+\n",
            "|battery_level|\n",
            "+-------------+\n",
            "|            8|\n",
            "|            7|\n",
            "|            2|\n",
            "|            6|\n",
            "|            4|\n",
            "|            3|\n",
            "|            3|\n",
            "|            0|\n",
            "|            3|\n",
            "|            7|\n",
            "+-------------+\n",
            "only showing top 10 rows\n",
            "\n"
          ]
        }
      ]
    },
    {
      "cell_type": "code",
      "source": [
        "spark.sql(\"SELECT DISTINCT battery_level FROM IOT ASC\").show()"
      ],
      "metadata": {
        "colab": {
          "base_uri": "https://localhost:8080/"
        },
        "id": "vB1jUXw_CzDh",
        "outputId": "25a18d62-d643-4bf8-c7f3-af4ee5380310"
      },
      "execution_count": null,
      "outputs": [
        {
          "output_type": "stream",
          "name": "stdout",
          "text": [
            "+-------------+\n",
            "|battery_level|\n",
            "+-------------+\n",
            "|            0|\n",
            "|            7|\n",
            "|            6|\n",
            "|            9|\n",
            "|            5|\n",
            "|            1|\n",
            "|            3|\n",
            "|            8|\n",
            "|            2|\n",
            "|            4|\n",
            "+-------------+\n",
            "\n"
          ]
        }
      ]
    },
    {
      "cell_type": "code",
      "source": [
        "spark.sql(\"SELECT cn, COUNT(DISTINCT device_id) as device_id FROM IOT where battery_level == 0 group by cn order by device_id desc\").show(50)\n"
      ],
      "metadata": {
        "colab": {
          "base_uri": "https://localhost:8080/"
        },
        "id": "QeKBXyoO_H2a",
        "outputId": "372041cb-6cdc-475f-b470-c3fa71ed08ed"
      },
      "execution_count": null,
      "outputs": [
        {
          "output_type": "stream",
          "name": "stdout",
          "text": [
            "+--------------------+---------+\n",
            "|                  cn|device_id|\n",
            "+--------------------+---------+\n",
            "|       United States|     6858|\n",
            "|               China|     1415|\n",
            "|   Republic of Korea|     1217|\n",
            "|               Japan|     1210|\n",
            "|             Germany|      760|\n",
            "|      United Kingdom|      650|\n",
            "|              Canada|      612|\n",
            "|              Russia|      600|\n",
            "|              France|      582|\n",
            "|              Brazil|      374|\n",
            "|           Australia|      322|\n",
            "|              Sweden|      293|\n",
            "|               Italy|      287|\n",
            "|              Poland|      278|\n",
            "|         Netherlands|      251|\n",
            "|               Spain|      223|\n",
            "|              Taiwan|      207|\n",
            "|               India|      189|\n",
            "|                    |      177|\n",
            "|           Hong Kong|      149|\n",
            "|             Ukraine|      149|\n",
            "|         Switzerland|      143|\n",
            "|            Bulgaria|      143|\n",
            "|             Austria|      132|\n",
            "|      Czech Republic|      130|\n",
            "|           Argentina|      129|\n",
            "|              Norway|      122|\n",
            "|              Mexico|      117|\n",
            "|             Denmark|      110|\n",
            "|           Singapore|      105|\n",
            "|             Romania|      101|\n",
            "|            Thailand|       92|\n",
            "|            Malaysia|       85|\n",
            "|             Finland|       76|\n",
            "|              Turkey|       72|\n",
            "|             Hungary|       68|\n",
            "|        South Africa|       67|\n",
            "|             Belgium|       65|\n",
            "|              Israel|       63|\n",
            "|         Philippines|       62|\n",
            "|           Indonesia|       61|\n",
            "|             Ireland|       48|\n",
            "|                Iran|       46|\n",
            "|              Greece|       41|\n",
            "|            Portugal|       39|\n",
            "|            Colombia|       36|\n",
            "|               Chile|       34|\n",
            "|Republic of Lithu...|       34|\n",
            "|              Latvia|       31|\n",
            "|         New Zealand|       29|\n",
            "+--------------------+---------+\n",
            "only showing top 50 rows\n",
            "\n"
          ]
        }
      ]
    },
    {
      "cell_type": "code",
      "source": [
        "spark.sql(\"SELECT cn,device_name,battery_level FROM IOT WHERE battery_level == 0\").show()"
      ],
      "metadata": {
        "colab": {
          "base_uri": "https://localhost:8080/"
        },
        "id": "6k50qLRE_TnR",
        "outputId": "e66f1bbb-f6d0-4796-9ec1-52a84343f9c0"
      },
      "execution_count": null,
      "outputs": [
        {
          "output_type": "stream",
          "name": "stdout",
          "text": [
            "+-----------------+--------------------+-------------+\n",
            "|               cn|         device_name|battery_level|\n",
            "+-----------------+--------------------+-------------+\n",
            "|            Japan|sensor-pad-8xUD6p...|            0|\n",
            "|    United States|sensor-pad-12Y2kIm0o|            0|\n",
            "|    United States|meter-gauge-17zb8...|            0|\n",
            "|          Germany| sensor-pad-448DeWGL|            0|\n",
            "|           Canada|sensor-pad-80TY4d...|            0|\n",
            "|Republic of Korea| sensor-pad-92vxuq7e|            0|\n",
            "|    United States|sensor-pad-98mJQA...|            0|\n",
            "|            Japan|meter-gauge-1075K...|            0|\n",
            "|        Australia|device-mac-111WYt...|            0|\n",
            "|    United States| sensor-pad-11663yUf|            0|\n",
            "|            China|device-mac-117mcc...|            0|\n",
            "|    United States|device-mac-123zvY...|            0|\n",
            "|    United States|meter-gauge-131Lb...|            0|\n",
            "|    United States|sensor-pad-1344UG...|            0|\n",
            "|          Germany|sensor-pad-140tq1s6t|            0|\n",
            "|            China|meter-gauge-151Gj...|            0|\n",
            "|            China|sensor-pad-156nfj...|            0|\n",
            "|    United States|meter-gauge-167c4...|            0|\n",
            "|    United States|meter-gauge-1794X...|            0|\n",
            "|     South Africa|sensor-pad-180lj1...|            0|\n",
            "+-----------------+--------------------+-------------+\n",
            "only showing top 20 rows\n",
            "\n"
          ]
        }
      ]
    },
    {
      "cell_type": "code",
      "source": [],
      "metadata": {
        "id": "ak8cyw4j_TtK"
      },
      "execution_count": null,
      "outputs": []
    }
  ],
  "metadata": {
    "language_info": {
      "name": "python"
    },
    "orig_nbformat": 4,
    "colab": {
      "provenance": []
    },
    "kernelspec": {
      "name": "python3",
      "display_name": "Python 3"
    }
  },
  "nbformat": 4,
  "nbformat_minor": 0
}